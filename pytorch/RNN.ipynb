{
 "cells": [
  {
   "cell_type": "code",
   "execution_count": 6,
   "id": "10561ea9",
   "metadata": {},
   "outputs": [],
   "source": [
    "import torch\n",
    "import random\n",
    "import zipfile\n",
    "\n",
    "with zipfile.ZipFile('../jaychou_lyrics.txt.zip') as zin:\n",
    "    with zin.open('jaychou_lyrics.txt') as f:\n",
    "        corpus_chars = f.read().decode('utf-8')\n",
    "corpus_chars[:40]"
   ]
  },
  {
   "cell_type": "code",
   "execution_count": 7,
   "id": "76802367",
   "metadata": {},
   "outputs": [],
   "source": [
    "corpus_chars = corpus_chars.replace('\\n', ' ').replace('\\r', ' ')\n",
    "corpus_chars = corpus_chars[0:10000]"
   ]
  },
  {
   "cell_type": "code",
   "execution_count": 8,
   "id": "154a2ebe",
   "metadata": {},
   "outputs": [],
   "source": [
    "idx_to_char = list(set(corpus_chars))\n",
    "char_to_idx = dict([(char, i) for i, char in enumerate(idx_to_char)])\n",
    "vocab_size = len(char_to_idx)\n",
    "vocab_size # 1027"
   ]
  },
  {
   "cell_type": "code",
   "execution_count": 15,
   "id": "369c1ce6",
   "metadata": {},
   "outputs": [
    {
     "name": "stdout",
     "output_type": "stream",
     "text": [
      "chars: 想要有直升机 想要和你飞到宇宙去 想要和\n",
      "indices: [20, 18, 52, 442, 967, 436, 639, 20, 18, 579, 273, 56, 794, 818, 972, 933, 639, 20, 18, 579]\n"
     ]
    }
   ],
   "source": [
    "corpus_indices = [char_to_idx[char] for char in corpus_chars]\n",
    "sample = corpus_indices[:20]\n",
    "print('chars:', ''.join([idx_to_char[idx] for idx in sample]))\n",
    "print('indices:', sample)\n"
   ]
  },
  {
   "cell_type": "code",
   "execution_count": 14,
   "id": "935adbed",
   "metadata": {},
   "outputs": [
    {
     "data": {
      "text/plain": [
       "tensor([0., 1., 2., 3.])"
      ]
     },
     "execution_count": 14,
     "metadata": {},
     "output_type": "execute_result"
    }
   ],
   "source": [
    "import torch\n",
    "\n",
    "x = torch.arange(4.0)\n",
    "x"
   ]
  },
  {
   "cell_type": "code",
   "execution_count": 16,
   "id": "a07fd9a4",
   "metadata": {},
   "outputs": [],
   "source": [
    "def data_iter_random(corpus_indices, batch_size, num_steps, device=None):\n",
    "    # 减1是因为输出的索引x是相应输入的索引y加1\n",
    "    num_examples = (len(corpus_indices) - 1) // num_steps\n",
    "    epoch_size = num_examples // batch_size\n",
    "    example_indices = list(range(num_examples))\n",
    "    random.shuffle(example_indices)\n",
    "\n",
    "    # 返回从pos开始的长为num_steps的序列\n",
    "    def _data(pos):\n",
    "        return corpus_indices[pos: pos + num_steps]\n",
    "    if device is None:\n",
    "        device = torch.device('cuda' if torch.cuda.is_available() else 'cpu')\n",
    "    \n",
    "    for i in range(epoch_size):\n",
    "        # 每次读取batch_size个随机样本\n",
    "        i = i * batch_size\n",
    "        batch_indices = example_indices[i: i + batch_size]\n",
    "        X = [_data(j * num_steps) for j in batch_indices]\n",
    "        Y = [_data(j * num_steps + 1) for j in batch_indices]\n",
    "        yield torch.tensor(X, dtype=torch.float32, device=device), torch.tensor(Y, dtype=torch.float32, device=device)"
   ]
  },
  {
   "cell_type": "code",
   "execution_count": 17,
   "id": "e9d952a8",
   "metadata": {},
   "outputs": [
    {
     "name": "stdout",
     "output_type": "stream",
     "text": [
      "X:  tensor([[ 6.,  7.,  8.,  9., 10., 11.],\n",
      "        [18., 19., 20., 21., 22., 23.]], device='cuda:0') \n",
      "Y: tensor([[ 7.,  8.,  9., 10., 11., 12.],\n",
      "        [19., 20., 21., 22., 23., 24.]], device='cuda:0') \n",
      "\n",
      "X:  tensor([[ 0.,  1.,  2.,  3.,  4.,  5.],\n",
      "        [12., 13., 14., 15., 16., 17.]], device='cuda:0') \n",
      "Y: tensor([[ 1.,  2.,  3.,  4.,  5.,  6.],\n",
      "        [13., 14., 15., 16., 17., 18.]], device='cuda:0') \n",
      "\n"
     ]
    }
   ],
   "source": [
    "my_seq = list(range(30))\n",
    "for X, Y in data_iter_random(my_seq, batch_size=2, num_steps=6):\n",
    "    print('X: ', X, '\\nY:', Y, '\\n')"
   ]
  },
  {
   "cell_type": "code",
   "execution_count": 5,
   "id": "4b33c35f",
   "metadata": {},
   "outputs": [],
   "source": [
    "import tensorflow as tf\n",
    "from tensorflow import keras\n",
    "import numpy as np\n",
    "import zipfile\n",
    "import math\n"
   ]
  },
  {
   "cell_type": "code",
   "execution_count": 6,
   "id": "33c26cb2",
   "metadata": {},
   "outputs": [],
   "source": [
    "def load_data_jay_lyrics():\n",
    "    \"\"\"加载周杰伦歌词数据集\"\"\"\n",
    "    with zipfile.ZipFile('jaychou_lyrics.txt.zip') as zin:\n",
    "        with zin.open('jaychou_lyrics.txt') as f:\n",
    "            corpus_chars = f.read().decode('utf-8')\n",
    "    corpus_chars = corpus_chars.replace('\\n', ' ').replace('\\r', ' ')\n",
    "    corpus_chars = corpus_chars[0:10000]\n",
    "    idx_to_char = list(set(corpus_chars))\n",
    "    char_to_idx = dict([(char, i) for i, char in enumerate(idx_to_char)])\n",
    "    vocab_size = len(char_to_idx)\n",
    "    corpus_indices = [char_to_idx[char] for char in corpus_chars]\n",
    "    return corpus_indices, char_to_idx, idx_to_char, vocab_size\n",
    "\n",
    "(corpus_indices, char_to_idx, idx_to_char, vocab_size) = load_data_jay_lyrics()\n"
   ]
  },
  {
   "cell_type": "code",
   "execution_count": 7,
   "id": "a81adc6f",
   "metadata": {},
   "outputs": [],
   "source": [
    "def data_iter_consecutive(corpus_indices, batch_size, num_steps, ctx=None):\n",
    "    corpus_indices = np.array(corpus_indices)\n",
    "    data_len = len(corpus_indices)\n",
    "    batch_len = data_len // batch_size\n",
    "    indices = corpus_indices[0: batch_size*batch_len].reshape((\n",
    "        batch_size, batch_len))\n",
    "    epoch_size = (batch_len - 1) // num_steps\n",
    "    for i in range(epoch_size):\n",
    "        i = i * num_steps\n",
    "        X = indices[:, i: i + num_steps]\n",
    "        Y = indices[:, i + 1: i + num_steps + 1]\n",
    "        yield X, Y\n"
   ]
  },
  {
   "cell_type": "code",
   "execution_count": 8,
   "id": "68fef495",
   "metadata": {},
   "outputs": [],
   "source": [
    "num_hiddens = 256\n",
    "cell = keras.layers.SimpleRNNCell(num_hiddens, \n",
    "                                  kernel_initializer='glorot_uniform')\n",
    "rnn_layer = keras.layers.RNN(cell,time_major=True,\n",
    "                            return_sequences=True,return_state=True)\n"
   ]
  },
  {
   "cell_type": "code",
   "execution_count": 9,
   "id": "b87434f0",
   "metadata": {},
   "outputs": [
    {
     "data": {
      "text/plain": [
       "TensorShape([2, 256])"
      ]
     },
     "execution_count": 9,
     "metadata": {},
     "output_type": "execute_result"
    }
   ],
   "source": [
    "batch_size = 2\n",
    "state = rnn_layer.cell.get_initial_state(batch_size=batch_size,dtype=tf.float32)\n",
    "state.shape\n"
   ]
  },
  {
   "cell_type": "code",
   "execution_count": 10,
   "id": "193c5894",
   "metadata": {},
   "outputs": [
    {
     "name": "stdout",
     "output_type": "stream",
     "text": [
      "(35, 2, 1027)\n",
      "(35, 2, 256)\n",
      "2\n",
      "(256,)\n"
     ]
    }
   ],
   "source": [
    "num_steps = 35\n",
    "X = tf.random.uniform(shape=(num_steps, batch_size, vocab_size))\n",
    "print(X.shape)\n",
    "Y, state_new = rnn_layer(X, state)\n",
    "print(Y.shape)\n",
    "print(len(state_new))\n",
    "print(state_new[0].shape)\n"
   ]
  },
  {
   "cell_type": "code",
   "execution_count": 11,
   "id": "d7c337ec",
   "metadata": {},
   "outputs": [],
   "source": [
    "class RNNModel(tf.keras.Model):\n",
    "    def __init__(self, rnn_layer, vocab_size):\n",
    "        super().__init__()\n",
    "        self.rnn = rnn_layer\n",
    "        self.vocab_size = vocab_size\n",
    "        self.dense = keras.layers.Dense(vocab_size)\n",
    "        \n",
    "    def call(self, inputs, state):\n",
    "        # 将输入转置成(num_steps, batch_size)后获取one-hot向量表示\n",
    "        X = tf.one_hot(tf.transpose(inputs), self.vocab_size)\n",
    "        Y, state = self.rnn(X, state)\n",
    "        # 全连接层会首先将Y的形状变成(num_steps * batch_size, num_hiddens)，\n",
    "        # 它的输出形状为(num_steps * batch_size, vocab_size)\n",
    "        output = self.dense(tf.reshape(Y, (-1, Y.shape[-1])))\n",
    "        return output, state\n",
    "    \n",
    "    def get_initial_state(self, *args, **kwargs):\n",
    "        return self.rnn.cell.get_initial_state(*args, **kwargs)\n",
    "\n",
    "model = RNNModel(rnn_layer, vocab_size)\n"
   ]
  },
  {
   "cell_type": "code",
   "execution_count": 12,
   "id": "f6a77155",
   "metadata": {},
   "outputs": [],
   "source": [
    "def predict_rnn_keras(prefix, num_chars):\n",
    "    # 使用model的成员函数来初始化隐藏状态\n",
    "    state = model.get_initial_state(batch_size=1,dtype=tf.float32)\n",
    "    output = [char_to_idx[prefix[0]]]\n",
    "    for t in range(num_chars + len(prefix) - 1):\n",
    "        X = np.array([output[-1]]).reshape((1, 1))\n",
    "        Y, state = model(X, state)  # 前向计算不需要传入模型参数\n",
    "        if t < len(prefix) - 1:\n",
    "            output.append(char_to_idx[prefix[t + 1]])\n",
    "        else:\n",
    "            output.append(int(np.array(tf.argmax(Y,axis=-1))))\n",
    "\n",
    "    return ''.join([idx_to_char[i] for i in output])\n"
   ]
  },
  {
   "cell_type": "code",
   "execution_count": 13,
   "id": "dc8700a9",
   "metadata": {},
   "outputs": [
    {
     "name": "stderr",
     "output_type": "stream",
     "text": [
      "C:\\Users\\Administrator\\AppData\\Local\\Temp\\ipykernel_17596\\3223621482.py:11: DeprecationWarning: Conversion of an array with ndim > 0 to a scalar is deprecated, and will error in future. Ensure you extract a single element from your array before performing this operation. (Deprecated NumPy 1.25.)\n",
      "  output.append(int(np.array(tf.argmax(Y,axis=-1))))\n"
     ]
    },
    {
     "data": {
      "text/plain": [
       "'分开烧写向睡于草寒怯典知'"
      ]
     },
     "execution_count": 13,
     "metadata": {},
     "output_type": "execute_result"
    }
   ],
   "source": [
    "predict_rnn_keras('分开', 10)\n"
   ]
  },
  {
   "cell_type": "code",
   "execution_count": 14,
   "id": "787030a8",
   "metadata": {},
   "outputs": [],
   "source": [
    "# 计算裁剪后的梯度\n",
    "def grad_clipping(grads,theta):\n",
    "    norm = np.array([0])\n",
    "    for i in range(len(grads)):\n",
    "        norm+=tf.math.reduce_sum(grads[i] ** 2)\n",
    "    norm = np.sqrt(norm).item()\n",
    "    new_gradient=[]\n",
    "    if norm > theta:\n",
    "        for grad in grads:\n",
    "            new_gradient.append(grad * theta / norm)\n",
    "    else:\n",
    "        for grad in grads:\n",
    "            new_gradient.append(grad)  \n",
    "    return new_gradient\n"
   ]
  },
  {
   "cell_type": "code",
   "execution_count": 15,
   "id": "63305af1",
   "metadata": {},
   "outputs": [],
   "source": [
    "lr = 1e2\n",
    "optimizer=tf.keras.optimizers.SGD(learning_rate=lr)\n"
   ]
  },
  {
   "cell_type": "code",
   "execution_count": 16,
   "id": "9f8b52fc",
   "metadata": {},
   "outputs": [],
   "source": [
    "loss_object = tf.keras.losses.SparseCategoricalCrossentropy()\n",
    "def train_step(X, state, Y, clipping_theta=1e-2):\n",
    "    with tf.GradientTape(persistent=True) as tape:\n",
    "        (outputs, state) = model(X, state)\n",
    "        y = Y.T.reshape((-1,))\n",
    "        l = loss_object(y,outputs)\n",
    "\n",
    "    grads = tape.gradient(l, model.variables)\n",
    "    # 梯度裁剪\n",
    "    grads=grad_clipping(grads, clipping_theta)\n",
    "    optimizer.apply_gradients(zip(grads, model.variables))  # 因为已经误差取过均值，梯度不用再做平均\n",
    "    return l, y\n"
   ]
  },
  {
   "cell_type": "code",
   "execution_count": 17,
   "id": "5fa7eb77",
   "metadata": {},
   "outputs": [],
   "source": [
    "def train_and_predict_rnn_keras(num_epochs, batch_size, pred_period, pred_len, prefixes):\n",
    "    \n",
    "    for epoch in range(num_epochs):\n",
    "        l_sum, n = 0.0, 0\n",
    "        data_iter = data_iter_consecutive(\n",
    "            corpus_indices, batch_size, num_steps)\n",
    "        state = model.get_initial_state(batch_size=batch_size,dtype=tf.float32)\n",
    "        for X, Y in data_iter:\n",
    "            l, y = train_step(X, state, Y)\n",
    "            l_sum += np.array(l).item() * len(y)\n",
    "            n += len(y)\n",
    "\n",
    "        if (epoch + 1) % pred_period == 0:\n",
    "            print('epoch %d, perplexity %f' % (\n",
    "                epoch + 1, math.exp(l_sum / n)))\n",
    "            for prefix in prefixes:\n",
    "                print(' -', predict_rnn_keras(prefix, pred_len))\n"
   ]
  },
  {
   "cell_type": "code",
   "execution_count": 18,
   "id": "f03d36b8",
   "metadata": {},
   "outputs": [
    {
     "name": "stdout",
     "output_type": "stream",
     "text": [
      "epoch 50, perplexity 2049.541150\n"
     ]
    },
    {
     "name": "stderr",
     "output_type": "stream",
     "text": [
      "C:\\Users\\Administrator\\AppData\\Local\\Temp\\ipykernel_17596\\3223621482.py:11: DeprecationWarning: Conversion of an array with ndim > 0 to a scalar is deprecated, and will error in future. Ensure you extract a single element from your array before performing this operation. (Deprecated NumPy 1.25.)\n",
      "  output.append(int(np.array(tf.argmax(Y,axis=-1))))\n"
     ]
    },
    {
     "name": "stdout",
     "output_type": "stream",
     "text": [
      " - 分开小们晰空揍些些奏古藏藏藏藏藏藏藏藏藏藏藏藏藏藏藏藏藏藏藏藏藏藏藏藏藏藏藏藏藏藏藏藏藏藏藏藏藏藏藏藏藏\n",
      " - 不分开们晰空揍些些奏古藏藏藏藏藏藏藏藏藏藏藏藏藏藏藏藏藏藏藏藏藏藏藏藏藏藏藏藏藏藏藏藏藏藏藏藏藏藏藏藏藏藏\n",
      "epoch 100, perplexity 3890.516798\n",
      " - 分开想烁亮烛瓣箱弃好好好好好好好好好好好好好好好好好好好好好好好好好好好好好好好好好好好好好好好好好好好\n",
      " - 不分开鸠亮烛瓣箱弃好好好好好好好好好好好好好好好好好好好好好好好好好好好好好好好好好好好好好好好好好好好好\n",
      "epoch 150, perplexity 809219.088307\n",
      " - 分开 我我我我我我我我我我我我我我我我我我我我我我我我我我我我我我我我我我我我我我我我我我我我我我我我我\n",
      " - 不分开我我我我我我我我我我我我我我我我我我我我我我我我我我我我我我我我我我我我我我我我我我我我我我我我我我\n",
      "epoch 200, perplexity 2974.233151\n",
      " - 分开倦糗抄沼沼沼沼沼沼沼沼沼沼沼沼沼沼沼沼沼沼沼沼沼沼沼沼沼沼沼沼沼沼沼沼沼沼沼沼沼沼沼沼沼沼沼沼沼沼沼\n",
      " - 不分开糗抄沼沼沼沼沼沼沼沼沼沼沼沼沼沼沼沼沼沼沼沼沼沼沼沼沼沼沼沼沼沼沼沼沼沼沼沼沼沼沼沼沼沼沼沼沼沼沼沼\n",
      "epoch 250, perplexity 985.613386\n",
      " - 分开待鼠抄抄抄抄抄抄抄抄抄抄抄抄抄抄抄抄抄抄抄抄抄抄抄抄抄抄抄抄抄抄抄抄抄抄抄抄抄抄抄抄抄抄抄抄抄抄抄抄\n",
      " - 不分开抄抄抄抄抄抄抄抄抄抄抄抄抄抄抄抄抄抄抄抄抄抄抄抄抄抄抄抄抄抄抄抄抄抄抄抄抄抄抄抄抄抄抄抄抄抄抄抄抄抄\n"
     ]
    }
   ],
   "source": [
    "num_epochs, batch_size = 250, 32\n",
    "pred_period, pred_len, prefixes = 50, 50, ['分开', '不分开']\n",
    "train_and_predict_rnn_keras(num_epochs, batch_size, pred_period,\n",
    "                            pred_len, prefixes)\n"
   ]
  },
  {
   "cell_type": "code",
   "execution_count": null,
   "id": "2fd5ae5d",
   "metadata": {},
   "outputs": [],
   "source": []
  }
 ],
 "metadata": {
  "kernelspec": {
   "display_name": "Python 3 (ipykernel)",
   "language": "python",
   "name": "python3"
  },
  "language_info": {
   "codemirror_mode": {
    "name": "ipython",
    "version": 3
   },
   "file_extension": ".py",
   "mimetype": "text/x-python",
   "name": "python",
   "nbconvert_exporter": "python",
   "pygments_lexer": "ipython3",
   "version": "3.9.19"
  }
 },
 "nbformat": 4,
 "nbformat_minor": 5
}
